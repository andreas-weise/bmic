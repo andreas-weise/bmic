{
 "cells": [
  {
   "cell_type": "code",
   "execution_count": 1,
   "metadata": {},
   "outputs": [],
   "source": [
    "# load all annotations into the database\n",
    "# (turn_annotations table should be emptied before this)\n",
    "import json\n",
    "import sqlite3\n",
    "import sys\n",
    "sys.path.append('../python/')\n",
    "import db"
   ]
  },
  {
   "cell_type": "code",
   "execution_count": 2,
   "metadata": {},
   "outputs": [],
   "source": [
    "# load all annotations and meta-data into a list\n",
    "anns_all = []\n",
    "with sqlite3.connect('../../psiturk/annotation/participants.db') \\\n",
    "as conn:\n",
    "    c = conn.cursor()\n",
    "    sql_stmt = \\\n",
    "        'SELECT td.workerid,\\n' \\\n",
    "        '       td.datastring,\\n' \\\n",
    "        '       hit.ses_id\\n' \\\n",
    "        'FROM   turkdemo td\\n' \\\n",
    "        'JOIN   hit_contents hit\\n' \\\n",
    "        'ON     td.hitid == hit.hit_id\\n' \\\n",
    "        'ORDER BY td.workerid,\\n' \\\n",
    "        '         td.beginhit;'\n",
    "    c.execute(sql_stmt)\n",
    "    # iterate all rows and process the json for each\n",
    "    # (note: json for VP:2_2 was stored incompletely (manually fixed)\n",
    "    #        and TL:1_3 and TL:2_3 were not completed by worker)\n",
    "    for workerid, data_str, ses_id in c.fetchall():\n",
    "        anns = {}\n",
    "        data = json.loads(data_str)\n",
    "        for d in data['data'][1:]:\n",
    "            if 'trialdata' in d \\\n",
    "            and 'turn' in d['trialdata'] \\\n",
    "            and len(d['trialdata']['annotations']) > 0:\n",
    "                # this data contains annotations, store/update them\n",
    "                ts = d['dateTime']\n",
    "                turn_index = d['trialdata']['turn']\n",
    "                ann = d['trialdata']['annotations']\n",
    "                if turn_index in anns:\n",
    "                    # update existing annotation, keeping initial ts\n",
    "                    anns[turn_index] = (anns[turn_index][0], ann)\n",
    "                else:\n",
    "                    # store new annotation\n",
    "                    anns[turn_index] = (ts, ann)\n",
    "        anns_all += [(workerid, ses_id, anns)]"
   ]
  },
  {
   "cell_type": "code",
   "execution_count": 3,
   "metadata": {},
   "outputs": [],
   "source": [
    "db.connect()\n",
    "for annotator, ses_id, anns in anns_all:\n",
    "    db.store_annotations(annotator, ses_id, anns)\n",
    "db.commit()\n",
    "db.close()"
   ]
  }
 ],
 "metadata": {
  "kernelspec": {
   "display_name": "Python 3",
   "language": "python",
   "name": "python3"
  },
  "language_info": {
   "codemirror_mode": {
    "name": "ipython",
    "version": 3
   },
   "file_extension": ".py",
   "mimetype": "text/x-python",
   "name": "python",
   "nbconvert_exporter": "python",
   "pygments_lexer": "ipython3",
   "version": "3.6.9"
  }
 },
 "nbformat": 4,
 "nbformat_minor": 4
}
