{
 "cells": [
  {
   "cell_type": "code",
   "execution_count": null,
   "metadata": {},
   "outputs": [],
   "source": [
    "# runs voice activity detection and automatic speech recognition for\n",
    "# all collected audio; requires manual steps in between"
   ]
  },
  {
   "cell_type": "code",
   "execution_count": null,
   "metadata": {},
   "outputs": [],
   "source": [
    "import sys\n",
    "sys.path.append('../python/')\n",
    "from vad_asr import do_all, vad, asr\n",
    "import db\n",
    "import fio"
   ]
  },
  {
   "cell_type": "code",
   "execution_count": null,
   "metadata": {},
   "outputs": [],
   "source": [
    "# run energy-based vad for all sessions of status 1 (logs done)\n",
    "# (returns total sounding time)\n",
    "db.connect()\n",
    "do_all(vad)\n",
    "db.commit()\n",
    "db.close()\n",
    "# after this, manually correct all VAD (and set status to 3)"
   ]
  },
  {
   "cell_type": "code",
   "execution_count": null,
   "metadata": {},
   "outputs": [],
   "source": [
    "# check labels in manually corrected vad files of sessions of status 3\n",
    "# (vad corrected), they have to be 'silent' & 'sounding', back and forth\n",
    "db.connect()\n",
    "for grp_id, ses_id, ses_type, rnd, mch_pair in db.find_sessions(3):\n",
    "    for mch_id, wav_path, wav_fname in mch_pair:\n",
    "        if mch_id == 0:\n",
    "            # woz, no vad file\n",
    "            continue\n",
    "        vad_path, vad_fname = fio.get_vad_pfn(wav_fname, 'corrected/')\n",
    "        print(vad_path + vad_fname)\n",
    "        if not fio.check_vad_textgrid_file(vad_path, vad_fname):\n",
    "            msg = 'vad file has errors; please fix them and rerun this'\n",
    "            raise ValueError(msg)\n",
    "db.close()"
   ]
  },
  {
   "cell_type": "code",
   "execution_count": null,
   "metadata": {},
   "outputs": [],
   "source": [
    "# run asr for all sessions of status 3 (vad corrected)\n",
    "db.connect()\n",
    "do_all(asr)\n",
    "db.commit()\n",
    "db.close()\n",
    "# after this, manually correct transcriptions (via psiturk)"
   ]
  }
 ],
 "metadata": {
  "kernelspec": {
   "display_name": "Python 3",
   "language": "python",
   "name": "python3"
  },
  "language_info": {
   "codemirror_mode": {
    "name": "ipython",
    "version": 3
   },
   "file_extension": ".py",
   "mimetype": "text/x-python",
   "name": "python",
   "nbconvert_exporter": "python",
   "pygments_lexer": "ipython3",
   "version": "3.6.9"
  }
 },
 "nbformat": 4,
 "nbformat_minor": 2
}
