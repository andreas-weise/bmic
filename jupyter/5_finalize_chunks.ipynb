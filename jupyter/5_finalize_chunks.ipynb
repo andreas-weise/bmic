{
 "cells": [
  {
   "cell_type": "code",
   "execution_count": null,
   "metadata": {},
   "outputs": [],
   "source": [
    "# load transcripts and extract features for all chunks (IPUs)\n",
    "import sys \n",
    "sys.path.append('../python/')\n",
    "import cfg\n",
    "import db\n",
    "import fio\n",
    "import vad_asr"
   ]
  },
  {
   "cell_type": "code",
   "execution_count": null,
   "metadata": {},
   "outputs": [],
   "source": [
    "db.connect()\n",
    "vad_asr.load_transcriptions()\n",
    "db.commit()\n",
    "db.close()"
   ]
  },
  {
   "cell_type": "code",
   "execution_count": null,
   "metadata": {},
   "outputs": [],
   "source": [
    "db.connect()\n",
    "for _, ses_id, _, _, ((_, pA, fnA), (_, pB, fnB)) \\\n",
    "in db.find_sessions(3, '>='):\n",
    "    for a_or_b, path, fname in [('A', pA, fnA), ('B', pB, fnB)]:\n",
    "        if fname:\n",
    "            for chu_id, words, start, end \\\n",
    "            in db.find_chunks(ses_id, a_or_b):\n",
    "                features = fio.extract_features(\n",
    "                    path, fname, ses_id, chu_id, words, start, end)\n",
    "                db.set_features(chu_id, features)\n",
    "        db.commit()\n",
    "    print(ses_id, 'done!')\n",
    "# run cleanup script\n",
    "db.executescript(cfg.SQL_PATH, cfg.SQL_CU_FNAME)\n",
    "db.commit()\n",
    "db.close()"
   ]
  }
 ],
 "metadata": {
  "kernelspec": {
   "display_name": "Python 3",
   "language": "python",
   "name": "python3"
  },
  "language_info": {
   "codemirror_mode": {
    "name": "ipython",
    "version": 3
   },
   "file_extension": ".py",
   "mimetype": "text/x-python",
   "name": "python",
   "nbconvert_exporter": "python",
   "pygments_lexer": "ipython3",
   "version": "3.6.9"
  }
 },
 "nbformat": 4,
 "nbformat_minor": 4
}
