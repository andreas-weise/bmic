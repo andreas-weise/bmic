{
 "cells": [
  {
   "cell_type": "code",
   "execution_count": null,
   "metadata": {},
   "outputs": [],
   "source": [
    "# processes subjects' responses to the questionnaires and the logs of\n",
    "# sessions (for timestamps, game scores, interaction/partner ratings,\n",
    "# and WOZ messages)"
   ]
  },
  {
   "cell_type": "code",
   "execution_count": 1,
   "metadata": {},
   "outputs": [],
   "source": [
    "import sys\n",
    "sys.path.append('../python/')\n",
    "import cfg\n",
    "import db\n",
    "import fio\n",
    "import logs"
   ]
  },
  {
   "cell_type": "code",
   "execution_count": 2,
   "metadata": {},
   "outputs": [],
   "source": [
    "db.connect(cfg.CORPUS_ID_BMIC)\n",
    "# initialize core db tables\n",
    "# careful, this DELETES ALL CORE DB TABLES\n",
    "db.executescript(cfg.SQL_PATH, cfg.SQL_INIT_FNAME)\n",
    "db.commit()\n",
    "db.ins_spk(0, 0) # woz placeholder speaker\n",
    "# iterate over all groups collected so far\n",
    "for grp_id in fio.get_grp_dir_indices():\n",
    "    logs.insert_group_sessions_tasks(grp_id)\n",
    "    # process questionnaires for all four subjects in the group \n",
    "    for mch_id in range(1, 5):\n",
    "        logs.process_question_log(grp_id, mch_id)\n",
    "    logs.process_session_logs(grp_id)\n",
    "db.executescript(cfg.SQL_PATH, cfg.SQL_QR_FNAME)\n",
    "db.commit()\n",
    "db.close()"
   ]
  }
 ],
 "metadata": {
  "kernelspec": {
   "display_name": "Python 3",
   "language": "python",
   "name": "python3"
  },
  "language_info": {
   "codemirror_mode": {
    "name": "ipython",
    "version": 3
   },
   "file_extension": ".py",
   "mimetype": "text/x-python",
   "name": "python",
   "nbconvert_exporter": "python",
   "pygments_lexer": "ipython3",
   "version": "3.6.9"
  }
 },
 "nbformat": 4,
 "nbformat_minor": 2
}
